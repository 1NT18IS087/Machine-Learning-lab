{
 "cells": [
  {
   "cell_type": "code",
   "execution_count": 2,
   "id": "acf2e824",
   "metadata": {},
   "outputs": [],
   "source": [
    "l1=[115.3,195.5,120.5,110.2,90.4,105.6,110.9,116.3,122.3,125.4]\n",
    "sum=0\n",
    "for i in l1:\n",
    " sum=sum+i;\n",
    "avg=sum/len(l1)"
   ]
  },
  {
   "cell_type": "code",
   "execution_count": 3,
   "id": "3357d714",
   "metadata": {},
   "outputs": [
    {
     "data": {
      "text/plain": [
       "121.24000000000001"
      ]
     },
     "execution_count": 3,
     "metadata": {},
     "output_type": "execute_result"
    }
   ],
   "source": [
    "avg"
   ]
  },
  {
   "cell_type": "code",
   "execution_count": 7,
   "id": "6644208d",
   "metadata": {},
   "outputs": [],
   "source": [
    "i=int(len(l1)/2)\n",
    "if i%2==0:\n",
    "    res=(l1[i]+l1[i+1])\n",
    "else:\n",
    "    res=l1[i]"
   ]
  },
  {
   "cell_type": "code",
   "execution_count": 8,
   "id": "d164b660",
   "metadata": {},
   "outputs": [
    {
     "data": {
      "text/plain": [
       "105.6"
      ]
     },
     "execution_count": 8,
     "metadata": {},
     "output_type": "execute_result"
    }
   ],
   "source": [
    "res"
   ]
  },
  {
   "cell_type": "code",
   "execution_count": 11,
   "id": "a73e0dfa",
   "metadata": {},
   "outputs": [],
   "source": [
    "d={}\n",
    "for it in l1:\n",
    "    if it in d:\n",
    "        d[it]=d[it]+1\n",
    "    else:\n",
    "        d[it]=1\n",
    "maxi=0\n",
    "for it in d:\n",
    "    if(d[it]>maxi):\n",
    "        maxi=d[it]\n",
    "        ans=it\n"
   ]
  },
  {
   "cell_type": "code",
   "execution_count": 12,
   "id": "0937afdb",
   "metadata": {},
   "outputs": [
    {
     "name": "stdout",
     "output_type": "stream",
     "text": [
      "115.3\n"
     ]
    }
   ],
   "source": [
    "print(ans)"
   ]
  },
  {
   "cell_type": "code",
   "execution_count": 13,
   "id": "22c596a7",
   "metadata": {},
   "outputs": [],
   "source": [
    "temp=0\n",
    "for it in l1:\n",
    "    temp=temp+(it-avg)**2\n",
    "variance=temp/len(l1)\n",
    "sd=(variance)**(1/2)"
   ]
  },
  {
   "cell_type": "code",
   "execution_count": 16,
   "id": "8e8fae58",
   "metadata": {},
   "outputs": [
    {
     "name": "stdout",
     "output_type": "stream",
     "text": [
      "701.7724\n",
      "26.490987146574962\n"
     ]
    }
   ],
   "source": [
    "print(variance)\n",
    "print(sd)"
   ]
  },
  {
   "cell_type": "code",
   "execution_count": 18,
   "id": "8a450177",
   "metadata": {},
   "outputs": [],
   "source": [
    "maxi=0\n",
    "mini=100000000\n",
    "for it in l1:\n",
    "    if it>maxi:\n",
    "        maxi=it\n",
    "    if it<mini:\n",
    "        mini=it"
   ]
  },
  {
   "cell_type": "code",
   "execution_count": 19,
   "id": "8ea423ac",
   "metadata": {},
   "outputs": [
    {
     "name": "stdout",
     "output_type": "stream",
     "text": [
      "90.4\n",
      "195.5\n"
     ]
    }
   ],
   "source": [
    "print(mini)\n",
    "print(maxi)"
   ]
  },
  {
   "cell_type": "code",
   "execution_count": 30,
   "id": "10dde79f",
   "metadata": {},
   "outputs": [
    {
     "data": {
      "text/plain": [
       "[0.23691722169362506,\n",
       " 1.0,\n",
       " 0.2863939105613701,\n",
       " 0.18839200761179828,\n",
       " 0.0,\n",
       " 0.14462416745956222,\n",
       " 0.1950523311132255,\n",
       " 0.24643196955280677,\n",
       " 0.3035204567078972,\n",
       " 0.3330161750713606]"
      ]
     },
     "execution_count": 30,
     "metadata": {},
     "output_type": "execute_result"
    }
   ],
   "source": [
    "norm=[]\n",
    "for it in l1:\n",
    "    norm.append((it-mini)/(maxi-mini))\n",
    "norm"
   ]
  },
  {
   "cell_type": "code",
   "execution_count": 39,
   "id": "5690f066",
   "metadata": {},
   "outputs": [
    {
     "ename": "TypeError",
     "evalue": "unsupported operand type(s) for /: 'float' and 'list'",
     "output_type": "error",
     "traceback": [
      "\u001b[1;31m---------------------------------------------------------------------------\u001b[0m",
      "\u001b[1;31mTypeError\u001b[0m                                 Traceback (most recent call last)",
      "\u001b[1;32m~\\AppData\\Local\\Temp/ipykernel_2236/4208027629.py\u001b[0m in \u001b[0;36m<module>\u001b[1;34m\u001b[0m\n\u001b[0;32m      2\u001b[0m \u001b[0mstandard\u001b[0m \u001b[1;33m=\u001b[0m \u001b[1;33m[\u001b[0m\u001b[1;33m]\u001b[0m\u001b[1;33m\u001b[0m\u001b[1;33m\u001b[0m\u001b[0m\n\u001b[0;32m      3\u001b[0m \u001b[1;32mfor\u001b[0m \u001b[0mit\u001b[0m \u001b[1;32min\u001b[0m \u001b[0ml1\u001b[0m\u001b[1;33m:\u001b[0m\u001b[1;33m\u001b[0m\u001b[1;33m\u001b[0m\u001b[0m\n\u001b[1;32m----> 4\u001b[1;33m  \u001b[0mstandard\u001b[0m\u001b[1;33m.\u001b[0m\u001b[0mappend\u001b[0m\u001b[1;33m(\u001b[0m\u001b[1;33m(\u001b[0m\u001b[0mit\u001b[0m \u001b[1;33m-\u001b[0m \u001b[0mavg\u001b[0m\u001b[1;33m)\u001b[0m\u001b[1;33m/\u001b[0m\u001b[0msd\u001b[0m\u001b[1;33m)\u001b[0m\u001b[1;33m\u001b[0m\u001b[1;33m\u001b[0m\u001b[0m\n\u001b[0m\u001b[0;32m      5\u001b[0m \u001b[0mstandard\u001b[0m\u001b[1;33m\u001b[0m\u001b[1;33m\u001b[0m\u001b[0m\n",
      "\u001b[1;31mTypeError\u001b[0m: unsupported operand type(s) for /: 'float' and 'list'"
     ]
    }
   ],
   "source": [
    "#standardization\n",
    "standard = []\n",
    "for it in l1:\n",
    " standard.append((it - avg)/sd)\n",
    "standard"
   ]
  },
  {
   "cell_type": "code",
   "execution_count": 42,
   "id": "95f3a589",
   "metadata": {},
   "outputs": [
    {
     "name": "stdout",
     "output_type": "stream",
     "text": [
      "[1, 2, 3, [5, 6]]\n"
     ]
    }
   ],
   "source": [
    "std=[1,2,3]\n",
    "std.append([5,6])\n",
    "print(std)"
   ]
  },
  {
   "cell_type": "code",
   "execution_count": null,
   "id": "04e72e8f",
   "metadata": {},
   "outputs": [],
   "source": []
  }
 ],
 "metadata": {
  "kernelspec": {
   "display_name": "Python 3 (ipykernel)",
   "language": "python",
   "name": "python3"
  },
  "language_info": {
   "codemirror_mode": {
    "name": "ipython",
    "version": 3
   },
   "file_extension": ".py",
   "mimetype": "text/x-python",
   "name": "python",
   "nbconvert_exporter": "python",
   "pygments_lexer": "ipython3",
   "version": "3.10.1"
  }
 },
 "nbformat": 4,
 "nbformat_minor": 5
}
