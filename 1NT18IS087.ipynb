{
 "cells": [
  {
   "cell_type": "code",
   "execution_count": 4,
   "metadata": {},
   "outputs": [],
   "source": [
    "data = [115.3, 195.5, 120.5, 110.2, 90.4, 105.6, 110.9, 116.3, 122.3, 125.4]\n",
    "n = len(data)"
   ]
  },
  {
   "cell_type": "code",
   "execution_count": 41,
   "metadata": {},
   "outputs": [
    {
     "name": "stdout",
     "output_type": "stream",
     "text": [
      "121.25999999999999\n"
     ]
    }
   ],
   "source": [
    "# mean\n",
    "\n",
    "n = len(data)\n",
    "sum = 0\n",
    "for ele in data:\n",
    "    sum = sum + ele\n",
    "\n",
    "mean = sum/n\n",
    "print(mean)"
   ]
  },
  {
   "cell_type": "code",
   "execution_count": 42,
   "metadata": {},
   "outputs": [
    {
     "name": "stdout",
     "output_type": "stream",
     "text": [
      "median is: 115.9\n"
     ]
    }
   ],
   "source": [
    "# median\n",
    "\n",
    "data.sort()\n",
    "if n % 2 ==0:\n",
    "    median1 =data[n//2]\n",
    "    median2 =data[n//2-1]\n",
    "    median  =(median1 + median2)/2\n",
    "else:\n",
    "    median = data[n//2]\n",
    "print(\"median is: \" + str(median))"
   ]
  },
  {
   "cell_type": "code",
   "execution_count": 44,
   "metadata": {},
   "outputs": [
    {
     "name": "stdout",
     "output_type": "stream",
     "text": [
      "Mode(s) is/are :{195.5, 122.3, 105.6, 110.9, 110.2, 115.3, 116.5, 120.5, 90.4, 125.4}\n"
     ]
    }
   ],
   "source": [
    "# mode\n",
    "\n",
    "data.sort()\n",
    "L1 = []\n",
    "\n",
    "\n",
    "i = 0\n",
    "while i < len(data) :\n",
    "    L1.append(data.count(data[i]))\n",
    "    i += 1\n",
    "    \n",
    "d1 = dict(zip(data, L1))\n",
    "\n",
    "d2={k for (k,v) in d1.items() if v == max(L1) }\n",
    "  \n",
    "print(\"Mode(s) is/are :\" + str(d2))"
   ]
  },
  {
   "cell_type": "code",
   "execution_count": 45,
   "metadata": {},
   "outputs": [
    {
     "name": "stdout",
     "output_type": "stream",
     "text": [
      "variance : 779.5315555555557\n"
     ]
    }
   ],
   "source": [
    "# variance\n",
    "\n",
    "sumSquare = 0\n",
    "\n",
    "for e in data:\n",
    "    sumSquare = sumSquare + ((e - mean)*(e - mean))\n",
    "\n",
    "var = sumSquare/(n-1)\n",
    "print(\"variance :\" , var)"
   ]
  },
  {
   "cell_type": "code",
   "execution_count": 46,
   "metadata": {},
   "outputs": [
    {
     "name": "stdout",
     "output_type": "stream",
     "text": [
      "15.883999999999997\n"
     ]
    }
   ],
   "source": [
    "# standard deviation\n",
    "std_sum = 0\n",
    "\n",
    "for e in data:\n",
    "    std_sum = std_sum + abs(e - mean)\n",
    "    \n",
    "standard_deviation = std_sum/n\n",
    "    \n",
    "print(standard_deviation)"
   ]
  },
  {
   "cell_type": "code",
   "execution_count": 47,
   "metadata": {},
   "outputs": [
    {
     "data": {
      "text/plain": [
       "[0.0,\n",
       " 0.14462416745956222,\n",
       " 0.18839200761179828,\n",
       " 0.1950523311132255,\n",
       " 0.23691722169362506,\n",
       " 0.24833491912464314,\n",
       " 0.2863939105613701,\n",
       " 0.3035204567078972,\n",
       " 0.3330161750713606,\n",
       " 1.0]"
      ]
     },
     "execution_count": 47,
     "metadata": {},
     "output_type": "execute_result"
    }
   ],
   "source": [
    "# minmax normalization\n",
    "\n",
    "z = []\n",
    "\n",
    "for e in data:\n",
    "    z.append((e - min(data))/ (max(data) - min(data)))\n",
    "\n",
    "z"
   ]
  },
  {
   "cell_type": "code",
   "execution_count": 48,
   "metadata": {},
   "outputs": [
    {
     "data": {
      "text/plain": [
       "[-1.942835557794006,\n",
       " -0.9858977587509443,\n",
       " -0.6962981616721223,\n",
       " -0.6522286577688232,\n",
       " -0.37522034751951616,\n",
       " -0.29967262654243215,\n",
       " -0.04784688995215255,\n",
       " 0.06547469151347309,\n",
       " 0.2606396373709403,\n",
       " 4.673885671115589]"
      ]
     },
     "execution_count": 48,
     "metadata": {},
     "output_type": "execute_result"
    }
   ],
   "source": [
    "# standardization\n",
    "\n",
    "Z = []\n",
    "\n",
    "for xi in data:\n",
    "    Z.append((xi - mean)/standard_deviation)\n",
    "    \n",
    "Z"
   ]
  },
  {
   "cell_type": "code",
   "execution_count": null,
   "metadata": {},
   "outputs": [],
   "source": []
  }
 ],
 "metadata": {
  "kernelspec": {
   "display_name": "Python 3",
   "language": "python",
   "name": "python3"
  },
  "language_info": {
   "codemirror_mode": {
    "name": "ipython",
    "version": 3
   },
   "file_extension": ".py",
   "mimetype": "text/x-python",
   "name": "python",
   "nbconvert_exporter": "python",
   "pygments_lexer": "ipython3",
   "version": "3.8.5"
  }
 },
 "nbformat": 4,
 "nbformat_minor": 4
}
