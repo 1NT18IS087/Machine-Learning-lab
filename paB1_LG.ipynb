{
 "cells": [
  {
   "cell_type": "code",
   "execution_count": 1,
   "id": "05ec1b5e",
   "metadata": {},
   "outputs": [],
   "source": [
    "\n",
    "import pandas as pd"
   ]
  },
  {
   "cell_type": "code",
   "execution_count": 10,
   "id": "e5e16a39",
   "metadata": {},
   "outputs": [
    {
     "data": {
      "text/html": [
       "<div>\n",
       "<style scoped>\n",
       "    .dataframe tbody tr th:only-of-type {\n",
       "        vertical-align: middle;\n",
       "    }\n",
       "\n",
       "    .dataframe tbody tr th {\n",
       "        vertical-align: top;\n",
       "    }\n",
       "\n",
       "    .dataframe thead th {\n",
       "        text-align: right;\n",
       "    }\n",
       "</style>\n",
       "<table border=\"1\" class=\"dataframe\">\n",
       "  <thead>\n",
       "    <tr style=\"text-align: right;\">\n",
       "      <th></th>\n",
       "      <th>34.62365962</th>\n",
       "      <th>78.02469282</th>\n",
       "      <th>0</th>\n",
       "    </tr>\n",
       "  </thead>\n",
       "  <tbody>\n",
       "    <tr>\n",
       "      <th>count</th>\n",
       "      <td>99.000000</td>\n",
       "      <td>99.000000</td>\n",
       "      <td>99.000000</td>\n",
       "    </tr>\n",
       "    <tr>\n",
       "      <th>mean</th>\n",
       "      <td>65.957614</td>\n",
       "      <td>66.102779</td>\n",
       "      <td>0.606061</td>\n",
       "    </tr>\n",
       "    <tr>\n",
       "      <th>std</th>\n",
       "      <td>19.302009</td>\n",
       "      <td>18.638875</td>\n",
       "      <td>0.491108</td>\n",
       "    </tr>\n",
       "    <tr>\n",
       "      <th>min</th>\n",
       "      <td>30.058822</td>\n",
       "      <td>30.603263</td>\n",
       "      <td>0.000000</td>\n",
       "    </tr>\n",
       "    <tr>\n",
       "      <th>25%</th>\n",
       "      <td>51.297736</td>\n",
       "      <td>47.978125</td>\n",
       "      <td>0.000000</td>\n",
       "    </tr>\n",
       "    <tr>\n",
       "      <th>50%</th>\n",
       "      <td>67.319257</td>\n",
       "      <td>66.589353</td>\n",
       "      <td>1.000000</td>\n",
       "    </tr>\n",
       "    <tr>\n",
       "      <th>75%</th>\n",
       "      <td>80.234877</td>\n",
       "      <td>79.876423</td>\n",
       "      <td>1.000000</td>\n",
       "    </tr>\n",
       "    <tr>\n",
       "      <th>max</th>\n",
       "      <td>99.827858</td>\n",
       "      <td>98.869436</td>\n",
       "      <td>1.000000</td>\n",
       "    </tr>\n",
       "  </tbody>\n",
       "</table>\n",
       "</div>"
      ],
      "text/plain": [
       "       34.62365962  78.02469282          0\n",
       "count    99.000000    99.000000  99.000000\n",
       "mean     65.957614    66.102779   0.606061\n",
       "std      19.302009    18.638875   0.491108\n",
       "min      30.058822    30.603263   0.000000\n",
       "25%      51.297736    47.978125   0.000000\n",
       "50%      67.319257    66.589353   1.000000\n",
       "75%      80.234877    79.876423   1.000000\n",
       "max      99.827858    98.869436   1.000000"
      ]
     },
     "execution_count": 10,
     "metadata": {},
     "output_type": "execute_result"
    }
   ],
   "source": [
    "data = pd.read_csv(\"Student-University.csv\")\n",
    "data.head(10)\n",
    "data.describe()"
   ]
  },
  {
   "cell_type": "code",
   "execution_count": 11,
   "id": "9400b922",
   "metadata": {},
   "outputs": [],
   "source": [
    "x = data.iloc[:, [0,1] ].values"
   ]
  },
  {
   "cell_type": "code",
   "execution_count": 12,
   "id": "dde304a7",
   "metadata": {},
   "outputs": [],
   "source": [
    "y = data.iloc[:, 2].values"
   ]
  },
  {
   "cell_type": "code",
   "execution_count": 13,
   "id": "9be5c5cb",
   "metadata": {},
   "outputs": [
    {
     "name": "stdout",
     "output_type": "stream",
     "text": [
      "[[30.28671077 43.89499752]\n",
      " [35.84740877 72.90219803]\n",
      " [60.18259939 86.3085521 ]\n",
      " [79.03273605 75.34437644]\n",
      " [45.08327748 56.31637178]]\n",
      "\n",
      "[0 0 1 1 0]\n"
     ]
    }
   ],
   "source": [
    "print(x[:5, :]) # Prinitng the first 5 rows of split input data\n",
    "print()\n",
    "print(y[:5])   # Printing the first 5 rows of split output data\n",
    "from sklearn import preprocessing"
   ]
  },
  {
   "cell_type": "code",
   "execution_count": 14,
   "id": "4481e4f8",
   "metadata": {},
   "outputs": [],
   "source": [
    "\n",
    "# Normalising data\n",
    "norX = preprocessing.scale(x)"
   ]
  },
  {
   "cell_type": "code",
   "execution_count": 15,
   "id": "1460c358",
   "metadata": {},
   "outputs": [
    {
     "name": "stdout",
     "output_type": "stream",
     "text": [
      "[[-1.85744578 -1.19754001]\n",
      " [-1.56789059  0.3666542 ]\n",
      " [-0.30071501  1.08958303]\n",
      " [ 0.6808443   0.49834707]\n",
      " [-1.08696289 -0.52772557]]\n"
     ]
    }
   ],
   "source": [
    "\n",
    "# Printing first 5 rows of Normalised data\n",
    "print(norX[:5, :])"
   ]
  },
  {
   "cell_type": "code",
   "execution_count": 16,
   "id": "a551017c",
   "metadata": {},
   "outputs": [],
   "source": [
    "import numpy as np\n",
    "from sklearn.model_selection import train_test_split\n",
    "from sklearn.model_selection import KFold\n"
   ]
  },
  {
   "cell_type": "code",
   "execution_count": 17,
   "id": "e5b46e39",
   "metadata": {},
   "outputs": [],
   "source": [
    "\n",
    "foldings = KFold(n_splits = 5)\n"
   ]
  },
  {
   "cell_type": "code",
   "execution_count": 18,
   "id": "fb30f7bc",
   "metadata": {},
   "outputs": [],
   "source": [
    "\n",
    "for train_index, test_index in foldings.split(norX):\n",
    "  xtrain, xtest, ytrain, ytest = train_test_split(norX, y, train_size=0.80, test_size=0.20, random_state=0)"
   ]
  },
  {
   "cell_type": "code",
   "execution_count": 20,
   "id": "c506578d",
   "metadata": {},
   "outputs": [],
   "source": [
    " x1 = xtrain[:, 0]\n",
    " x2 = xtrain[:, 1]\n"
   ]
  },
  {
   "cell_type": "code",
   "execution_count": 21,
   "id": "2fdf2852",
   "metadata": {},
   "outputs": [],
   "source": [
    " b0 = 0\n",
    " b1 = 0\n",
    " b2 = 0\n",
    " epoch = 10000\n",
    " alpha = 0.001"
   ]
  },
  {
   "cell_type": "code",
   "execution_count": 24,
   "id": "c78ff14d",
   "metadata": {},
   "outputs": [],
   "source": [
    "while(epoch>0):\n",
    "    for i in range(len(xtrain)):\n",
    "      pred = b0 + b1*x1[i] + b2*x2[i]\n",
    "      prediction = 1/(1 + np.exp(-pred))\n",
    "      b0 = b0 + alpha*(ytrain[i]-prediction)*prediction*(1-prediction)*1.0\n",
    "      b1 = b1 + alpha*(ytrain[i]-prediction)*prediction*(1-prediction)*x1[i]\n",
    "      b2 = b2 + alpha*(ytrain[i]-prediction)*prediction*(1-prediction)*x2[i]\n",
    "    epoch = epoch - 1"
   ]
  },
  {
   "cell_type": "code",
   "execution_count": 26,
   "id": "2c44102e",
   "metadata": {},
   "outputs": [
    {
     "name": "stdout",
     "output_type": "stream",
     "text": [
      "1.590641737857832\n",
      "3.1148936955248936\n",
      "2.412367982045799\n",
      "[0 1 1 1 1 1 0 1 0 1 0 0 0 0 1 1 0 1 0 1]\n"
     ]
    }
   ],
   "source": [
    "print(b0)\n",
    "print(b1)\n",
    "print(b2)\n",
    "x3 = xtest[:, 0]\n",
    "x4 = xtest[:, 1]\n",
    "print(ytest)"
   ]
  },
  {
   "cell_type": "code",
   "execution_count": 27,
   "id": "8711918f",
   "metadata": {},
   "outputs": [],
   "source": [
    "\n",
    "pred_list = []\n",
    "y_pred = [0]*len(xtest)"
   ]
  },
  {
   "cell_type": "code",
   "execution_count": 28,
   "id": "6a6806b4",
   "metadata": {},
   "outputs": [],
   "source": [
    "\n",
    "for i in range(len(xtest)):\n",
    "  predo = b0 + b1*x3[i] + b2*x4[i]\n",
    "  y_pred[i] = np.round(1/(1 + np.exp(-predo)))\n",
    "  pred_list.append(int(y_pred[i]))"
   ]
  },
  {
   "cell_type": "code",
   "execution_count": 29,
   "id": "475393e9",
   "metadata": {},
   "outputs": [
    {
     "name": "stdout",
     "output_type": "stream",
     "text": [
      "[1, 1, 1, 1, 1, 1, 0, 1, 0, 1, 0, 0, 1, 0, 1, 1, 0, 1, 0, 1]\n",
      "Accuracy in precentage: 90.0 %\n"
     ]
    }
   ],
   "source": [
    "\n",
    "print(pred_list)\n",
    "from sklearn.metrics import accuracy_score\n",
    "res = accuracy_score(ytest, y_pred)\n",
    "acc = res*100\n",
    "print(\"Accuracy in precentage:\", acc, \"%\")"
   ]
  },
  {
   "cell_type": "code",
   "execution_count": null,
   "id": "f97f5c0f",
   "metadata": {},
   "outputs": [],
   "source": []
  }
 ],
 "metadata": {
  "kernelspec": {
   "display_name": "Python 3 (ipykernel)",
   "language": "python",
   "name": "python3"
  },
  "language_info": {
   "codemirror_mode": {
    "name": "ipython",
    "version": 3
   },
   "file_extension": ".py",
   "mimetype": "text/x-python",
   "name": "python",
   "nbconvert_exporter": "python",
   "pygments_lexer": "ipython3",
   "version": "3.10.1"
  }
 },
 "nbformat": 4,
 "nbformat_minor": 5
}
